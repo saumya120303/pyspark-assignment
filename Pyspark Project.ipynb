{
 "cells": [
  {
   "cell_type": "code",
   "execution_count": 0,
   "metadata": {
    "application/vnd.databricks.v1+cell": {
     "cellMetadata": {
      "byteLimit": 2048000,
      "rowLimit": 10000
     },
     "inputWidgets": {},
     "nuid": "43ee58fe-5cbb-4cbc-a05d-1ff019d35a47",
     "showTitle": false,
     "title": ""
    }
   },
   "outputs": [],
   "source": [
    "sales = spark.read.csv(\"dbfs:/FileStore/sales.csv\", header=True, inferSchema=True)\n",
    "pd = spark.read.csv(\"dbfs:/FileStore/products.csv\", header=True, inferSchema=True)"
   ]
  },
  {
   "cell_type": "code",
   "execution_count": 0,
   "metadata": {
    "application/vnd.databricks.v1+cell": {
     "cellMetadata": {
      "byteLimit": 2048000,
      "rowLimit": 10000
     },
     "inputWidgets": {},
     "nuid": "ca90a06c-4c52-4151-bdd6-e71f1c735f2c",
     "showTitle": false,
     "title": ""
    }
   },
   "outputs": [
    {
     "output_type": "stream",
     "name": "stdout",
     "output_type": "stream",
     "text": [
      "+----------+-----------+-------------------+--------+----------+--------+\n|Product Id|Customer Id|               Date|Location|    Source|Quantity|\n+----------+-----------+-------------------+--------+----------+--------+\n|         1|          A|2023-01-01 00:00:00|   India|    Swiggy|       1|\n|         2|          A|2022-01-01 00:00:00|   India|    Swiggy|       2|\n|         2|          A|2023-01-07 00:00:00|   India|    Swiggy|       3|\n|         3|          A|2023-01-10 00:00:00|   India|Restaurant|       1|\n|         3|          A|2022-01-11 00:00:00|   India|    Swiggy|       1|\n|         3|          A|2023-01-11 00:00:00|   India|Restaurant|       3|\n|         2|          B|2022-02-01 00:00:00|   India|    Swiggy|       2|\n|         2|          B|2023-01-02 00:00:00|   India|    Swiggy|       5|\n|         1|          B|2023-01-04 00:00:00|   India|Restaurant|       2|\n|         1|          B|2023-02-11 00:00:00|   India|    Swiggy|       7|\n|         3|          B|2023-01-16 00:00:00|   India|    zomato|       3|\n|         3|          B|2022-02-01 00:00:00|   India|    zomato|       1|\n|         3|          C|2023-01-01 00:00:00|   India|    zomato|       2|\n|         1|          C|2023-01-01 00:00:00|      UK|    Swiggy|       2|\n|         6|          C|2022-01-07 00:00:00|      UK|    zomato|       2|\n|         3|          D|2023-02-16 00:00:00|      UK|Restaurant|       3|\n|         5|          D|2022-02-01 00:00:00|      UK|    zomato|       4|\n|         3|          E|2023-02-01 00:00:00|      UK|Restaurant|      89|\n|         4|          E|2023-02-01 00:00:00|      UK|    Swiggy|       2|\n|         4|          E|2023-02-07 00:00:00|      UK|Restaurant|       3|\n+----------+-----------+-------------------+--------+----------+--------+\nonly showing top 20 rows\n\n"
     ]
    }
   ],
   "source": [
    "sales.show()"
   ]
  },
  {
   "cell_type": "code",
   "execution_count": 0,
   "metadata": {
    "application/vnd.databricks.v1+cell": {
     "cellMetadata": {
      "byteLimit": 2048000,
      "rowLimit": 10000
     },
     "inputWidgets": {},
     "nuid": "98f8c1f4-44e8-4406-bf7c-f20764fbf808",
     "showTitle": false,
     "title": ""
    }
   },
   "outputs": [
    {
     "output_type": "stream",
     "name": "stdout",
     "output_type": "stream",
     "text": [
      "+----------+------------+-------------+\n|Product Id|Product Name|Product Price|\n+----------+------------+-------------+\n|         1|       PIZZA|          100|\n|         2|     Chowmin|          150|\n|         3|    sandwich|          120|\n|         4|        Dosa|          110|\n|         5|     Biryani|           80|\n|         6|       Pasta|          180|\n+----------+------------+-------------+\n\n"
     ]
    }
   ],
   "source": [
    "pd.show()"
   ]
  },
  {
   "cell_type": "code",
   "execution_count": 0,
   "metadata": {
    "application/vnd.databricks.v1+cell": {
     "cellMetadata": {
      "byteLimit": 2048000,
      "rowLimit": 10000
     },
     "inputWidgets": {},
     "nuid": "2272d69f-f388-476b-afd9-b58982109e00",
     "showTitle": false,
     "title": ""
    }
   },
   "outputs": [
    {
     "output_type": "stream",
     "name": "stdout",
     "output_type": "stream",
     "text": [
      "+----------+-----------+-------------------+--------+----------+--------+------------+-------------+\n|Product Id|Customer Id|               Date|Location|    Source|Quantity|Product Name|Product Price|\n+----------+-----------+-------------------+--------+----------+--------+------------+-------------+\n|         1|          A|2023-01-01 00:00:00|   India|    Swiggy|       1|       PIZZA|          100|\n|         2|          A|2022-01-01 00:00:00|   India|    Swiggy|       2|     Chowmin|          150|\n|         2|          A|2023-01-07 00:00:00|   India|    Swiggy|       3|     Chowmin|          150|\n|         3|          A|2023-01-10 00:00:00|   India|Restaurant|       1|    sandwich|          120|\n|         3|          A|2022-01-11 00:00:00|   India|    Swiggy|       1|    sandwich|          120|\n|         3|          A|2023-01-11 00:00:00|   India|Restaurant|       3|    sandwich|          120|\n|         2|          B|2022-02-01 00:00:00|   India|    Swiggy|       2|     Chowmin|          150|\n|         2|          B|2023-01-02 00:00:00|   India|    Swiggy|       5|     Chowmin|          150|\n|         1|          B|2023-01-04 00:00:00|   India|Restaurant|       2|       PIZZA|          100|\n|         1|          B|2023-02-11 00:00:00|   India|    Swiggy|       7|       PIZZA|          100|\n|         3|          B|2023-01-16 00:00:00|   India|    zomato|       3|    sandwich|          120|\n|         3|          B|2022-02-01 00:00:00|   India|    zomato|       1|    sandwich|          120|\n|         3|          C|2023-01-01 00:00:00|   India|    zomato|       2|    sandwich|          120|\n|         1|          C|2023-01-01 00:00:00|      UK|    Swiggy|       2|       PIZZA|          100|\n|         6|          C|2022-01-07 00:00:00|      UK|    zomato|       2|       Pasta|          180|\n|         3|          D|2023-02-16 00:00:00|      UK|Restaurant|       3|    sandwich|          120|\n|         5|          D|2022-02-01 00:00:00|      UK|    zomato|       4|     Biryani|           80|\n|         3|          E|2023-02-01 00:00:00|      UK|Restaurant|      89|    sandwich|          120|\n|         4|          E|2023-02-01 00:00:00|      UK|    Swiggy|       2|        Dosa|          110|\n|         4|          E|2023-02-07 00:00:00|      UK|Restaurant|       3|        Dosa|          110|\n+----------+-----------+-------------------+--------+----------+--------+------------+-------------+\nonly showing top 20 rows\n\nOut[6]: DataFrame[Product Id: string, Customer Id: string, Date: timestamp, Location: string, Source: string, Quantity: int, Product Name: string, Product Price: int]"
     ]
    }
   ],
   "source": [
    "from pyspark.sql import SparkSession\n",
    "joined_data = sales.join(pd, 'Product Id', how='inner')\n",
    "joined_data.show()\n",
    "joined_data.persist()\n"
   ]
  },
  {
   "cell_type": "code",
   "execution_count": 0,
   "metadata": {
    "application/vnd.databricks.v1+cell": {
     "cellMetadata": {
      "byteLimit": 2048000,
      "rowLimit": 10000
     },
     "inputWidgets": {},
     "nuid": "98bad174-a593-47ed-824b-844acade30c2",
     "showTitle": false,
     "title": ""
    }
   },
   "outputs": [
    {
     "output_type": "stream",
     "name": "stdout",
     "output_type": "stream",
     "text": [
      "+-----------+-----+\n|Customer ID|count|\n+-----------+-----+\n|          E|   18|\n|          B|   36|\n|          D|   12|\n|          C|   18|\n|          A|   33|\n+-----------+-----+\n\n"
     ]
    }
   ],
   "source": [
    "grouped_cust=joined_data.groupBy('Customer ID')\n",
    "\n",
    "grouped_cust_count = grouped_cust.count()\n",
    "\n",
    "grouped_cust_count.show()\n",
    "\n",
    "#simply calling groupBy() doesn't compute any result yet. It just prepares the DataFrame for further operations that you might want to perform within each group. No transformation before action Concept is applied here(lazy evalautaion)\n"
   ]
  },
  {
   "cell_type": "code",
   "execution_count": 0,
   "metadata": {
    "application/vnd.databricks.v1+cell": {
     "cellMetadata": {
      "byteLimit": 2048000,
      "rowLimit": 10000
     },
     "inputWidgets": {},
     "nuid": "90338ee0-7d47-4c09-834c-123576be13f7",
     "showTitle": false,
     "title": ""
    }
   },
   "outputs": [
    {
     "output_type": "stream",
     "name": "stdout",
     "output_type": "stream",
     "text": [
      "+-----------+------------------+\n|Customer ID|Total_Amount_Spent|\n+-----------+------------------+\n|          A|             13830|\n|          B|             19440|\n|          C|              6560|\n|          D|              4280|\n|          E|             15630|\n+-----------+------------------+\n\n"
     ]
    }
   ],
   "source": [
    "#col: The col function is used to reference DataFrame columns by name. It returns a Column object representing the column specified by the input string. This allows you to perform various operations on DataFrame columns, such as arithmetic operations, filtering, and aggregation.\n",
    "\n",
    "from pyspark.sql.functions import sum, col\n",
    "total_amount_by_customer = grouped_cust.agg(sum(col(\"Quantity\") * col(\"Product Price\")).alias(\"Total_Amount_Spent\"))\n",
    "#total_amount_by_customer.show()\n",
    "\n",
    "q1=total_amount_by_customer.orderBy(\"Customer ID\")\n",
    "q1.show()"
   ]
  },
  {
   "cell_type": "code",
   "execution_count": 0,
   "metadata": {
    "application/vnd.databricks.v1+cell": {
     "cellMetadata": {
      "byteLimit": 2048000,
      "rowLimit": 10000
     },
     "inputWidgets": {},
     "nuid": "7e67f1c6-86eb-4831-a2e4-22f942a0219c",
     "showTitle": false,
     "title": ""
    }
   },
   "outputs": [
    {
     "output_type": "stream",
     "name": "stdout",
     "output_type": "stream",
     "text": [
      "+------------+-----+\n|Product Name|count|\n+------------+-----+\n|       Pasta|    6|\n|       PIZZA|   21|\n|    sandwich|   48|\n|     Biryani|    6|\n|     Chowmin|   24|\n|        Dosa|   12|\n+------------+-----+\n\n"
     ]
    }
   ],
   "source": [
    "grouped_food=joined_data.groupBy(\"Product Name\")\n",
    "grouped_food_count=grouped_food.count()\n",
    "grouped_food_count.show()\n"
   ]
  },
  {
   "cell_type": "code",
   "execution_count": 0,
   "metadata": {
    "application/vnd.databricks.v1+cell": {
     "cellMetadata": {
      "byteLimit": 2048000,
      "rowLimit": 10000
     },
     "inputWidgets": {},
     "nuid": "798e869c-a36d-4d49-a064-281865829a50",
     "showTitle": false,
     "title": ""
    }
   },
   "outputs": [
    {
     "output_type": "stream",
     "name": "stdout",
     "output_type": "stream",
     "text": [
      "+------------+--------------------------+\n|Product Name|Total_Amount_Spent_On_FOOD|\n+------------+--------------------------+\n|     Biryani|                      2000|\n|     Chowmin|                     16350|\n|        Dosa|                      3630|\n|       PIZZA|                      5600|\n|       Pasta|                      3600|\n|    sandwich|                     28560|\n+------------+--------------------------+\n\n"
     ]
    }
   ],
   "source": [
    "total_amount_on_food = grouped_food.agg(sum(col(\"Quantity\") * col(\"Product Price\")).alias(\"Total_Amount_Spent_On_FOOD\"))\n",
    "# total_amount_on_food.show()\n",
    "\n",
    "q2=total_amount_on_food.orderBy(\"Product Name\")\n",
    "q2.show()"
   ]
  },
  {
   "cell_type": "code",
   "execution_count": 0,
   "metadata": {
    "application/vnd.databricks.v1+cell": {
     "cellMetadata": {
      "byteLimit": 2048000,
      "rowLimit": 10000
     },
     "inputWidgets": {},
     "nuid": "4910bf24-02ee-4c5f-85f8-65b459078f65",
     "showTitle": false,
     "title": ""
    }
   },
   "outputs": [
    {
     "output_type": "stream",
     "name": "stdout",
     "output_type": "stream",
     "text": [
      "+----------+-----------+----------+--------+----------+--------+------------+-------------+-----+\n|Product Id|Customer Id|      Date|Location|    Source|Quantity|Product Name|Product Price|Month|\n+----------+-----------+----------+--------+----------+--------+------------+-------------+-----+\n|         1|          A|2023-01-01|   India|    Swiggy|       1|       PIZZA|          100|   01|\n|         2|          A|2022-01-01|   India|    Swiggy|       2|     Chowmin|          150|   01|\n|         2|          A|2023-01-07|   India|    Swiggy|       3|     Chowmin|          150|   01|\n|         3|          A|2023-01-10|   India|Restaurant|       1|    sandwich|          120|   01|\n|         3|          A|2022-01-11|   India|    Swiggy|       1|    sandwich|          120|   01|\n|         3|          A|2023-01-11|   India|Restaurant|       3|    sandwich|          120|   01|\n|         2|          B|2022-02-01|   India|    Swiggy|       2|     Chowmin|          150|   02|\n|         2|          B|2023-01-02|   India|    Swiggy|       5|     Chowmin|          150|   01|\n|         1|          B|2023-01-04|   India|Restaurant|       2|       PIZZA|          100|   01|\n|         1|          B|2023-02-11|   India|    Swiggy|       7|       PIZZA|          100|   02|\n|         3|          B|2023-01-16|   India|    zomato|       3|    sandwich|          120|   01|\n|         3|          B|2022-02-01|   India|    zomato|       1|    sandwich|          120|   02|\n|         3|          C|2023-01-01|   India|    zomato|       2|    sandwich|          120|   01|\n|         1|          C|2023-01-01|      UK|    Swiggy|       2|       PIZZA|          100|   01|\n|         6|          C|2022-01-07|      UK|    zomato|       2|       Pasta|          180|   01|\n|         3|          D|2023-02-16|      UK|Restaurant|       3|    sandwich|          120|   02|\n|         5|          D|2022-02-01|      UK|    zomato|       4|     Biryani|           80|   02|\n|         3|          E|2023-02-01|      UK|Restaurant|      89|    sandwich|          120|   02|\n|         4|          E|2023-02-01|      UK|    Swiggy|       2|        Dosa|          110|   02|\n|         4|          E|2023-02-07|      UK|Restaurant|       3|        Dosa|          110|   02|\n+----------+-----------+----------+--------+----------+--------+------------+-------------+-----+\nonly showing top 20 rows\n\n"
     ]
    }
   ],
   "source": [
    "from pyspark.sql.functions import month,split, year, quarter\n",
    "joined_data = joined_data.withColumn(\"Date\", joined_data[\"Date\"].cast(\"date\"))\n",
    "# Extract the month from the 'Date' column\n",
    "df_with_month = joined_data.withColumn(\"Month\", split(col(\"Date\"), \"-\")[1])\n",
    "df_with_month.show()"
   ]
  },
  {
   "cell_type": "code",
   "execution_count": 0,
   "metadata": {
    "application/vnd.databricks.v1+cell": {
     "cellMetadata": {
      "byteLimit": 2048000,
      "rowLimit": 10000
     },
     "inputWidgets": {},
     "nuid": "9d6ebf51-33f8-44fd-b9b9-fd28362f405c",
     "showTitle": false,
     "title": ""
    }
   },
   "outputs": [
    {
     "output_type": "stream",
     "name": "stdout",
     "output_type": "stream",
     "text": [
      "+-----+------------------+\n|Month|Total_Amount_Spent|\n+-----+------------------+\n|   01|              8600|\n|   02|             22150|\n|   03|              1760|\n|   05|             12800|\n|   06|              8230|\n|   07|              2540|\n|   11|              3660|\n+-----+------------------+\n\n"
     ]
    }
   ],
   "source": [
    "grouped_month=df_with_month.groupBy(\"Month\")\n",
    "total_amount_by_month = grouped_month.agg(sum(col(\"Quantity\") * col(\"Product Price\")).alias(\"Total_Amount_Spent\"))\n",
    "tt=total_amount_by_month.orderBy(\"Month\")\n",
    "tt.show()"
   ]
  },
  {
   "cell_type": "code",
   "execution_count": 0,
   "metadata": {
    "application/vnd.databricks.v1+cell": {
     "cellMetadata": {
      "byteLimit": 2048000,
      "rowLimit": 10000
     },
     "inputWidgets": {},
     "nuid": "be73e850-d1cc-418c-b0aa-8f49408d9c28",
     "showTitle": false,
     "title": ""
    }
   },
   "outputs": [
    {
     "output_type": "stream",
     "name": "stdout",
     "output_type": "stream",
     "text": [
      "+----------+-----------+----------+--------+----------+--------+------------+-------------+----+\n|Product Id|Customer Id|      Date|Location|    Source|Quantity|Product Name|Product Price|Year|\n+----------+-----------+----------+--------+----------+--------+------------+-------------+----+\n|         1|          A|2023-01-01|   India|    Swiggy|       1|       PIZZA|          100|2023|\n|         2|          A|2022-01-01|   India|    Swiggy|       2|     Chowmin|          150|2022|\n|         2|          A|2023-01-07|   India|    Swiggy|       3|     Chowmin|          150|2023|\n|         3|          A|2023-01-10|   India|Restaurant|       1|    sandwich|          120|2023|\n|         3|          A|2022-01-11|   India|    Swiggy|       1|    sandwich|          120|2022|\n|         3|          A|2023-01-11|   India|Restaurant|       3|    sandwich|          120|2023|\n|         2|          B|2022-02-01|   India|    Swiggy|       2|     Chowmin|          150|2022|\n|         2|          B|2023-01-02|   India|    Swiggy|       5|     Chowmin|          150|2023|\n|         1|          B|2023-01-04|   India|Restaurant|       2|       PIZZA|          100|2023|\n|         1|          B|2023-02-11|   India|    Swiggy|       7|       PIZZA|          100|2023|\n|         3|          B|2023-01-16|   India|    zomato|       3|    sandwich|          120|2023|\n|         3|          B|2022-02-01|   India|    zomato|       1|    sandwich|          120|2022|\n|         3|          C|2023-01-01|   India|    zomato|       2|    sandwich|          120|2023|\n|         1|          C|2023-01-01|      UK|    Swiggy|       2|       PIZZA|          100|2023|\n|         6|          C|2022-01-07|      UK|    zomato|       2|       Pasta|          180|2022|\n|         3|          D|2023-02-16|      UK|Restaurant|       3|    sandwich|          120|2023|\n|         5|          D|2022-02-01|      UK|    zomato|       4|     Biryani|           80|2022|\n|         3|          E|2023-02-01|      UK|Restaurant|      89|    sandwich|          120|2023|\n|         4|          E|2023-02-01|      UK|    Swiggy|       2|        Dosa|          110|2023|\n|         4|          E|2023-02-07|      UK|Restaurant|       3|        Dosa|          110|2023|\n+----------+-----------+----------+--------+----------+--------+------------+-------------+----+\nonly showing top 20 rows\n\n"
     ]
    }
   ],
   "source": [
    "#extracted year from the csv file and added it as a column\n",
    "take_year=joined_data.withColumn(\"Year\" ,year(\"Date\"))\n",
    "take_year.show()"
   ]
  },
  {
   "cell_type": "code",
   "execution_count": 0,
   "metadata": {
    "application/vnd.databricks.v1+cell": {
     "cellMetadata": {
      "byteLimit": 2048000,
      "rowLimit": 10000
     },
     "inputWidgets": {},
     "nuid": "748d14e1-7f06-4bc7-9e9c-4ec3dd38c53e",
     "showTitle": false,
     "title": ""
    }
   },
   "outputs": [
    {
     "output_type": "stream",
     "name": "stdout",
     "output_type": "stream",
     "text": [
      "+----+------------------+\n|Year|Total_Amount_Spent|\n+----+------------------+\n|2022|             16250|\n|2023|             43490|\n+----+------------------+\n\n"
     ]
    }
   ],
   "source": [
    "grouped_year=take_year.groupBy(\"Year\")\n",
    "total_amount_by_year = grouped_year.agg(sum(col(\"Quantity\") * col(\"Product Price\")).alias(\"Total_Amount_Spent\"))\n",
    "total_year=total_amount_by_year.orderBy(\"Year\")\n",
    "total_year.show()"
   ]
  },
  {
   "cell_type": "code",
   "execution_count": 0,
   "metadata": {
    "application/vnd.databricks.v1+cell": {
     "cellMetadata": {
      "byteLimit": 2048000,
      "rowLimit": 10000
     },
     "inputWidgets": {},
     "nuid": "a080919e-a7af-4711-8bd5-69e655e6e42e",
     "showTitle": false,
     "title": ""
    }
   },
   "outputs": [
    {
     "output_type": "stream",
     "name": "stdout",
     "output_type": "stream",
     "text": [
      "+----------+-----------+----------+--------+----------+--------+------------+-------------+-------+\n|Product Id|Customer Id|      Date|Location|    Source|Quantity|Product Name|Product Price|Quarter|\n+----------+-----------+----------+--------+----------+--------+------------+-------------+-------+\n|         1|          A|2023-01-01|   India|    Swiggy|       1|       PIZZA|          100|      1|\n|         2|          A|2022-01-01|   India|    Swiggy|       2|     Chowmin|          150|      1|\n|         2|          A|2023-01-07|   India|    Swiggy|       3|     Chowmin|          150|      1|\n|         3|          A|2023-01-10|   India|Restaurant|       1|    sandwich|          120|      1|\n|         3|          A|2022-01-11|   India|    Swiggy|       1|    sandwich|          120|      1|\n|         3|          A|2023-01-11|   India|Restaurant|       3|    sandwich|          120|      1|\n|         2|          B|2022-02-01|   India|    Swiggy|       2|     Chowmin|          150|      1|\n|         2|          B|2023-01-02|   India|    Swiggy|       5|     Chowmin|          150|      1|\n|         1|          B|2023-01-04|   India|Restaurant|       2|       PIZZA|          100|      1|\n|         1|          B|2023-02-11|   India|    Swiggy|       7|       PIZZA|          100|      1|\n|         3|          B|2023-01-16|   India|    zomato|       3|    sandwich|          120|      1|\n|         3|          B|2022-02-01|   India|    zomato|       1|    sandwich|          120|      1|\n|         3|          C|2023-01-01|   India|    zomato|       2|    sandwich|          120|      1|\n|         1|          C|2023-01-01|      UK|    Swiggy|       2|       PIZZA|          100|      1|\n|         6|          C|2022-01-07|      UK|    zomato|       2|       Pasta|          180|      1|\n|         3|          D|2023-02-16|      UK|Restaurant|       3|    sandwich|          120|      1|\n|         5|          D|2022-02-01|      UK|    zomato|       4|     Biryani|           80|      1|\n|         3|          E|2023-02-01|      UK|Restaurant|      89|    sandwich|          120|      1|\n|         4|          E|2023-02-01|      UK|    Swiggy|       2|        Dosa|          110|      1|\n|         4|          E|2023-02-07|      UK|Restaurant|       3|        Dosa|          110|      1|\n+----------+-----------+----------+--------+----------+--------+------------+-------------+-------+\nonly showing top 20 rows\n\n"
     ]
    }
   ],
   "source": [
    "#extracted year from the csv file and added it as a column\n",
    "take_q=joined_data.withColumn(\"Quarter\" ,quarter(\"Date\"))\n",
    "take_q.show()"
   ]
  },
  {
   "cell_type": "code",
   "execution_count": 0,
   "metadata": {
    "application/vnd.databricks.v1+cell": {
     "cellMetadata": {
      "byteLimit": 2048000,
      "rowLimit": 10000
     },
     "inputWidgets": {},
     "nuid": "e2f8b989-5df0-493b-9a07-a46681623cff",
     "showTitle": false,
     "title": ""
    }
   },
   "outputs": [
    {
     "output_type": "stream",
     "name": "stdout",
     "output_type": "stream",
     "text": [
      "+-------+------------------+\n|Quarter|Total_Amount_Spent|\n+-------+------------------+\n|      1|             32510|\n|      2|             21030|\n|      3|              2540|\n|      4|              3660|\n+-------+------------------+\n\n"
     ]
    }
   ],
   "source": [
    "grouped_q=take_q.groupBy(\"Quarter\")\n",
    "total_amount_by_q = grouped_q.agg(sum(col(\"Quantity\") * col(\"Product Price\")).alias(\"Total_Amount_Spent\"))\n",
    "total_q=total_amount_by_q.orderBy(\"Quarter\")\n",
    "total_q.show()"
   ]
  },
  {
   "cell_type": "code",
   "execution_count": 0,
   "metadata": {
    "application/vnd.databricks.v1+cell": {
     "cellMetadata": {
      "byteLimit": 2048000,
      "rowLimit": 10000
     },
     "inputWidgets": {},
     "nuid": "7a6f131e-f238-4cdb-b36a-11f8af348af5",
     "showTitle": false,
     "title": ""
    }
   },
   "outputs": [
    {
     "output_type": "stream",
     "name": "stdout",
     "output_type": "stream",
     "text": [
      "+------------+-----+\n|Product Name|count|\n+------------+-----+\n|       Pasta|    6|\n|       PIZZA|   21|\n|    sandwich|   48|\n|     Biryani|    6|\n|     Chowmin|   24|\n|        Dosa|   12|\n+------------+-----+\n\n"
     ]
    }
   ],
   "source": [
    "\n",
    "orders_by_category = joined_data.groupBy(\"Product Name\").count().alias(\"Total Orders\")\n",
    "orders_by_category.show()\n"
   ]
  },
  {
   "cell_type": "code",
   "execution_count": 0,
   "metadata": {
    "application/vnd.databricks.v1+cell": {
     "cellMetadata": {
      "byteLimit": 2048000,
      "rowLimit": 10000
     },
     "inputWidgets": {},
     "nuid": "967a7a1e-6c0f-477a-b571-0b6ddcd92271",
     "showTitle": false,
     "title": ""
    }
   },
   "outputs": [
    {
     "output_type": "stream",
     "name": "stdout",
     "output_type": "stream",
     "text": [
      "+------------+------------+\n|Product Name|Total Orders|\n+------------+------------+\n|    sandwich|          48|\n|     Chowmin|          24|\n|       PIZZA|          21|\n|        Dosa|          12|\n|     Biryani|           6|\n|       Pasta|           6|\n+------------+------------+\n\n"
     ]
    }
   ],
   "source": [
    "from pyspark.sql.functions import count,sum\n",
    "orders_by_category = joined_data.groupBy(\"Product Name\").agg(count(\"*\").alias(\"Total Orders\"))\n",
    "orders_by_category_top = orders_by_category.orderBy(\"Total Orders\", ascending=False)\n",
    "orders_by_category_top.show()"
   ]
  },
  {
   "cell_type": "code",
   "execution_count": 0,
   "metadata": {
    "application/vnd.databricks.v1+cell": {
     "cellMetadata": {
      "byteLimit": 2048000,
      "rowLimit": 10000
     },
     "inputWidgets": {},
     "nuid": "c49a2806-9809-46e2-afc6-4118e87b7814",
     "showTitle": false,
     "title": ""
    }
   },
   "outputs": [
    {
     "output_type": "stream",
     "name": "stdout",
     "output_type": "stream",
     "text": [
      "+-----------+---------------+\n|Customer Id|Visit Frequency|\n+-----------+---------------+\n|          B|             36|\n|          A|             33|\n|          E|             18|\n|          C|             18|\n|          D|             12|\n+-----------+---------------+\n\n"
     ]
    }
   ],
   "source": [
    "sales_df = sales.na.drop(subset=[\"Customer Id\"])\n",
    "customer_visit_frequency = sales_df.groupBy(\"Customer Id\").agg(count(\"*\").alias(\"Visit Frequency\"))\n",
    "customer_visit_frequency_ord=customer_visit_frequency.orderBy(\"Visit Frequency\", ascending=False)\n",
    "customer_visit_frequency_ord.show()\n"
   ]
  },
  {
   "cell_type": "code",
   "execution_count": 0,
   "metadata": {
    "application/vnd.databricks.v1+cell": {
     "cellMetadata": {
      "byteLimit": 2048000,
      "rowLimit": 10000
     },
     "inputWidgets": {},
     "nuid": "f453e040-a297-4a95-9d6b-1c44d7df897b",
     "showTitle": false,
     "title": ""
    }
   },
   "outputs": [
    {
     "output_type": "stream",
     "name": "stdout",
     "output_type": "stream",
     "text": [
      "+--------+-----------------+-----------------+\n|Location|Total Sales (USD)|Total Sales (INR)|\n+--------+-----------------+-----------------+\n|   India|             4860|          1470000|\n|     USA|             2460|             7310|\n|      UK|             7020|            32830|\n+--------+-----------------+-----------------+\n\n"
     ]
    }
   ],
   "source": [
    "con = 75  # Conversion rate: 1 USD = 75 INR\n",
    "\n",
    "# Convert sales to INR based on the location (assuming \"India\" as the location for INR)\n",
    "con = 75  # Conversion rate: 1 USD = 75 INR\n",
    "\n",
    "# Convert sales to INR based on the location (assuming \"India\" as the location for INR)\n",
    "sales_df = joined_data.withColumn(\"Sales_INR\", when(joined_data[\"Location\"] == \"India\", joined_data[\"Product Price\"] * joined_data[\"Quantity\"] * con).otherwise(joined_data[\"Product Price\"] * joined_data[\"Quantity\"]))\n",
    "\n",
    "total_sales_by_country = sales_df.groupBy(\"Location\").agg(sum(\"Product Price\").alias(\"Total Sales (USD)\"), sum(\"Sales_INR\").alias(\"Total Sales (INR)\"))\n",
    "total_sales_by_country.show()"
   ]
  },
  {
   "cell_type": "code",
   "execution_count": 0,
   "metadata": {
    "application/vnd.databricks.v1+cell": {
     "cellMetadata": {
      "byteLimit": 2048000,
      "rowLimit": 10000
     },
     "inputWidgets": {},
     "nuid": "9ace21c5-710d-4654-a8ff-50cc19dead57",
     "showTitle": false,
     "title": ""
    }
   },
   "outputs": [
    {
     "output_type": "stream",
     "name": "stdout",
     "output_type": "stream",
     "text": [
      "+----------+-----------+\n|    Source|Total Sales|\n+----------+-----------+\n|    zomato|      20900|\n|    Swiggy|      20260|\n|Restaurant|      18580|\n+----------+-----------+\n\n"
     ]
    }
   ],
   "source": [
    "sales_df = joined_data.withColumn(\"Product Price\", col(\"Product Price\").cast(\"double\"))\n",
    "sales_df = joined_data.withColumn(\"Quantity\", col(\"Quantity\").cast(\"int\"))\n",
    "\n",
    "total_sales_by_source = sales_df.groupBy(\"Source\").agg(sum(col(\"Product Price\") * col(\"Quantity\")).alias(\"Total Sales\"))\n",
    "total_sales_by_source.show()"
   ]
  },
  {
   "cell_type": "code",
   "execution_count": 0,
   "metadata": {
    "application/vnd.databricks.v1+cell": {
     "cellMetadata": {},
     "inputWidgets": {},
     "nuid": "f82b0cc2-86a4-47f6-9fa2-be2d45511af5",
     "showTitle": false,
     "title": ""
    }
   },
   "outputs": [],
   "source": []
  }
 ],
 "metadata": {
  "application/vnd.databricks.v1+notebook": {
   "dashboards": [],
   "language": "python",
   "notebookMetadata": {
    "pythonIndentUnit": 4
   },
   "notebookName": "Pyspark Project",
   "widgets": {}
  }
 },
 "nbformat": 4,
 "nbformat_minor": 0
}
